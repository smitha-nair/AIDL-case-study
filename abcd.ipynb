{
  "nbformat": 4,
  "nbformat_minor": 0,
  "metadata": {
    "colab": {
      "provenance": [],
      "include_colab_link": true
    },
    "kernelspec": {
      "name": "python3",
      "display_name": "Python 3"
    },
    "language_info": {
      "name": "python"
    }
  },
  "cells": [
    {
      "cell_type": "markdown",
      "metadata": {
        "id": "view-in-github",
        "colab_type": "text"
      },
      "source": [
        "<a href=\"https://colab.research.google.com/github/smitha-nair/AIDL-case-study/blob/main/abcd.ipynb\" target=\"_parent\"><img src=\"https://colab.research.google.com/assets/colab-badge.svg\" alt=\"Open In Colab\"/></a>"
      ]
    },
    {
      "cell_type": "code",
      "execution_count": null,
      "metadata": {
        "colab": {
          "base_uri": "https://localhost:8080/"
        },
        "id": "tss1dnQJGimX",
        "outputId": "4535acf8-6ef3-45df-bb56-00a3ab4f11e6"
      },
      "outputs": [
        {
          "output_type": "stream",
          "name": "stdout",
          "text": [
            "Requirement already satisfied: gradio in /usr/local/lib/python3.11/dist-packages (5.15.0)\n",
            "Requirement already satisfied: aiofiles<24.0,>=22.0 in /usr/local/lib/python3.11/dist-packages (from gradio) (23.2.1)\n",
            "Requirement already satisfied: anyio<5.0,>=3.0 in /usr/local/lib/python3.11/dist-packages (from gradio) (3.7.1)\n",
            "Requirement already satisfied: fastapi<1.0,>=0.115.2 in /usr/local/lib/python3.11/dist-packages (from gradio) (0.115.8)\n",
            "Requirement already satisfied: ffmpy in /usr/local/lib/python3.11/dist-packages (from gradio) (0.5.0)\n",
            "Requirement already satisfied: gradio-client==1.7.0 in /usr/local/lib/python3.11/dist-packages (from gradio) (1.7.0)\n",
            "Requirement already satisfied: httpx>=0.24.1 in /usr/local/lib/python3.11/dist-packages (from gradio) (0.28.1)\n",
            "Requirement already satisfied: huggingface-hub>=0.28.1 in /usr/local/lib/python3.11/dist-packages (from gradio) (0.28.1)\n",
            "Requirement already satisfied: jinja2<4.0 in /usr/local/lib/python3.11/dist-packages (from gradio) (3.1.5)\n",
            "Requirement already satisfied: markupsafe~=2.0 in /usr/local/lib/python3.11/dist-packages (from gradio) (2.1.5)\n",
            "Requirement already satisfied: numpy<3.0,>=1.0 in /usr/local/lib/python3.11/dist-packages (from gradio) (1.26.4)\n",
            "Requirement already satisfied: orjson~=3.0 in /usr/local/lib/python3.11/dist-packages (from gradio) (3.10.15)\n",
            "Requirement already satisfied: packaging in /usr/local/lib/python3.11/dist-packages (from gradio) (24.2)\n",
            "Requirement already satisfied: pandas<3.0,>=1.0 in /usr/local/lib/python3.11/dist-packages (from gradio) (2.2.2)\n",
            "Requirement already satisfied: pillow<12.0,>=8.0 in /usr/local/lib/python3.11/dist-packages (from gradio) (11.1.0)\n",
            "Requirement already satisfied: pydantic>=2.0 in /usr/local/lib/python3.11/dist-packages (from gradio) (2.10.6)\n",
            "Requirement already satisfied: pydub in /usr/local/lib/python3.11/dist-packages (from gradio) (0.25.1)\n",
            "Requirement already satisfied: python-multipart>=0.0.18 in /usr/local/lib/python3.11/dist-packages (from gradio) (0.0.20)\n",
            "Requirement already satisfied: pyyaml<7.0,>=5.0 in /usr/local/lib/python3.11/dist-packages (from gradio) (6.0.2)\n",
            "Requirement already satisfied: ruff>=0.9.3 in /usr/local/lib/python3.11/dist-packages (from gradio) (0.9.5)\n",
            "Requirement already satisfied: safehttpx<0.2.0,>=0.1.6 in /usr/local/lib/python3.11/dist-packages (from gradio) (0.1.6)\n",
            "Requirement already satisfied: semantic-version~=2.0 in /usr/local/lib/python3.11/dist-packages (from gradio) (2.10.0)\n",
            "Requirement already satisfied: starlette<1.0,>=0.40.0 in /usr/local/lib/python3.11/dist-packages (from gradio) (0.45.3)\n",
            "Requirement already satisfied: tomlkit<0.14.0,>=0.12.0 in /usr/local/lib/python3.11/dist-packages (from gradio) (0.13.2)\n",
            "Requirement already satisfied: typer<1.0,>=0.12 in /usr/local/lib/python3.11/dist-packages (from gradio) (0.15.1)\n",
            "Requirement already satisfied: typing-extensions~=4.0 in /usr/local/lib/python3.11/dist-packages (from gradio) (4.12.2)\n",
            "Requirement already satisfied: uvicorn>=0.14.0 in /usr/local/lib/python3.11/dist-packages (from gradio) (0.34.0)\n",
            "Requirement already satisfied: fsspec in /usr/local/lib/python3.11/dist-packages (from gradio-client==1.7.0->gradio) (2024.10.0)\n",
            "Requirement already satisfied: websockets<15.0,>=10.0 in /usr/local/lib/python3.11/dist-packages (from gradio-client==1.7.0->gradio) (14.2)\n",
            "Requirement already satisfied: idna>=2.8 in /usr/local/lib/python3.11/dist-packages (from anyio<5.0,>=3.0->gradio) (3.10)\n",
            "Requirement already satisfied: sniffio>=1.1 in /usr/local/lib/python3.11/dist-packages (from anyio<5.0,>=3.0->gradio) (1.3.1)\n",
            "Requirement already satisfied: certifi in /usr/local/lib/python3.11/dist-packages (from httpx>=0.24.1->gradio) (2025.1.31)\n",
            "Requirement already satisfied: httpcore==1.* in /usr/local/lib/python3.11/dist-packages (from httpx>=0.24.1->gradio) (1.0.7)\n",
            "Requirement already satisfied: h11<0.15,>=0.13 in /usr/local/lib/python3.11/dist-packages (from httpcore==1.*->httpx>=0.24.1->gradio) (0.14.0)\n",
            "Requirement already satisfied: filelock in /usr/local/lib/python3.11/dist-packages (from huggingface-hub>=0.28.1->gradio) (3.17.0)\n",
            "Requirement already satisfied: requests in /usr/local/lib/python3.11/dist-packages (from huggingface-hub>=0.28.1->gradio) (2.32.3)\n",
            "Requirement already satisfied: tqdm>=4.42.1 in /usr/local/lib/python3.11/dist-packages (from huggingface-hub>=0.28.1->gradio) (4.67.1)\n",
            "Requirement already satisfied: python-dateutil>=2.8.2 in /usr/local/lib/python3.11/dist-packages (from pandas<3.0,>=1.0->gradio) (2.8.2)\n",
            "Requirement already satisfied: pytz>=2020.1 in /usr/local/lib/python3.11/dist-packages (from pandas<3.0,>=1.0->gradio) (2025.1)\n",
            "Requirement already satisfied: tzdata>=2022.7 in /usr/local/lib/python3.11/dist-packages (from pandas<3.0,>=1.0->gradio) (2025.1)\n",
            "Requirement already satisfied: annotated-types>=0.6.0 in /usr/local/lib/python3.11/dist-packages (from pydantic>=2.0->gradio) (0.7.0)\n",
            "Requirement already satisfied: pydantic-core==2.27.2 in /usr/local/lib/python3.11/dist-packages (from pydantic>=2.0->gradio) (2.27.2)\n",
            "Requirement already satisfied: click>=8.0.0 in /usr/local/lib/python3.11/dist-packages (from typer<1.0,>=0.12->gradio) (8.1.8)\n",
            "Requirement already satisfied: shellingham>=1.3.0 in /usr/local/lib/python3.11/dist-packages (from typer<1.0,>=0.12->gradio) (1.5.4)\n",
            "Requirement already satisfied: rich>=10.11.0 in /usr/local/lib/python3.11/dist-packages (from typer<1.0,>=0.12->gradio) (13.9.4)\n",
            "Requirement already satisfied: six>=1.5 in /usr/local/lib/python3.11/dist-packages (from python-dateutil>=2.8.2->pandas<3.0,>=1.0->gradio) (1.17.0)\n",
            "Requirement already satisfied: markdown-it-py>=2.2.0 in /usr/local/lib/python3.11/dist-packages (from rich>=10.11.0->typer<1.0,>=0.12->gradio) (3.0.0)\n",
            "Requirement already satisfied: pygments<3.0.0,>=2.13.0 in /usr/local/lib/python3.11/dist-packages (from rich>=10.11.0->typer<1.0,>=0.12->gradio) (2.18.0)\n",
            "Requirement already satisfied: charset-normalizer<4,>=2 in /usr/local/lib/python3.11/dist-packages (from requests->huggingface-hub>=0.28.1->gradio) (3.4.1)\n",
            "Requirement already satisfied: urllib3<3,>=1.21.1 in /usr/local/lib/python3.11/dist-packages (from requests->huggingface-hub>=0.28.1->gradio) (2.3.0)\n",
            "Requirement already satisfied: mdurl~=0.1 in /usr/local/lib/python3.11/dist-packages (from markdown-it-py>=2.2.0->rich>=10.11.0->typer<1.0,>=0.12->gradio) (0.1.2)\n",
            "Requirement already satisfied: lazypredict in /usr/local/lib/python3.11/dist-packages (0.2.13)\n",
            "Requirement already satisfied: click in /usr/local/lib/python3.11/dist-packages (from lazypredict) (8.1.8)\n",
            "Requirement already satisfied: scikit-learn in /usr/local/lib/python3.11/dist-packages (from lazypredict) (1.6.1)\n",
            "Requirement already satisfied: pandas in /usr/local/lib/python3.11/dist-packages (from lazypredict) (2.2.2)\n",
            "Requirement already satisfied: tqdm in /usr/local/lib/python3.11/dist-packages (from lazypredict) (4.67.1)\n",
            "Requirement already satisfied: joblib in /usr/local/lib/python3.11/dist-packages (from lazypredict) (1.4.2)\n",
            "Requirement already satisfied: lightgbm in /usr/local/lib/python3.11/dist-packages (from lazypredict) (4.5.0)\n",
            "Requirement already satisfied: xgboost in /usr/local/lib/python3.11/dist-packages (from lazypredict) (2.1.3)\n",
            "Requirement already satisfied: numpy>=1.17.0 in /usr/local/lib/python3.11/dist-packages (from lightgbm->lazypredict) (1.26.4)\n",
            "Requirement already satisfied: scipy in /usr/local/lib/python3.11/dist-packages (from lightgbm->lazypredict) (1.13.1)\n",
            "Requirement already satisfied: python-dateutil>=2.8.2 in /usr/local/lib/python3.11/dist-packages (from pandas->lazypredict) (2.8.2)\n",
            "Requirement already satisfied: pytz>=2020.1 in /usr/local/lib/python3.11/dist-packages (from pandas->lazypredict) (2025.1)\n",
            "Requirement already satisfied: tzdata>=2022.7 in /usr/local/lib/python3.11/dist-packages (from pandas->lazypredict) (2025.1)\n",
            "Requirement already satisfied: threadpoolctl>=3.1.0 in /usr/local/lib/python3.11/dist-packages (from scikit-learn->lazypredict) (3.5.0)\n",
            "Requirement already satisfied: nvidia-nccl-cu12 in /usr/local/lib/python3.11/dist-packages (from xgboost->lazypredict) (2.21.5)\n",
            "Requirement already satisfied: six>=1.5 in /usr/local/lib/python3.11/dist-packages (from python-dateutil>=2.8.2->pandas->lazypredict) (1.17.0)\n"
          ]
        }
      ],
      "source": [
        "#Importing necessary libraries\n",
        "import pandas as pd\n",
        "!pip install gradio\n",
        "import gradio as gr\n",
        "import pickle\n",
        "from sklearn.model_selection import train_test_split\n",
        "from sklearn.preprocessing import LabelEncoder, MinMaxScaler\n",
        "from sklearn.tree import DecisionTreeClassifier\n",
        "from sklearn.metrics import accuracy_score\n",
        "import numpy as np\n",
        "!pip install lazypredict\n",
        "import matplotlib.pyplot as plt"
      ]
    },
    {
      "cell_type": "markdown",
      "source": [
        "#1. Data gathering"
      ],
      "metadata": {
        "id": "UE3_VilSH4zl"
      }
    },
    {
      "cell_type": "code",
      "source": [
        "# Load the dataset\n",
        "df = pd.read_csv(\"Raw Data Pfizer.csv\")\n",
        "df.head() #displaying the 1st 5 records"
      ],
      "metadata": {
        "colab": {
          "base_uri": "https://localhost:8080/",
          "height": 273
        },
        "id": "Aw6l25TBG42F",
        "outputId": "d2f9ad37-2f9d-4fda-d047-cbcd81e213c4"
      },
      "execution_count": null,
      "outputs": [
        {
          "output_type": "execute_result",
          "data": {
            "text/plain": [
              "  Patient_ID  Age  Gender         Ethnicity Medical_History Genomic_Profile  \\\n",
              "0       P001   22    Male  African American   Heart Disease             NaN   \n",
              "1       P002   61  Female             Other        Diabetes   HER2 Mutation   \n",
              "2       P003   60  Female             Other   Heart Disease   TP53 Mutation   \n",
              "3       P004   76   Other             Other             NaN   EGFR Mutation   \n",
              "4       P005   39  Female             Other          Asthma  BRCA2 Mutation   \n",
              "\n",
              "  Trial_ID Drug_Name Trial_Phase Start_Date  ... Side_Effects  \\\n",
              "0     T011     DrugC    Phase IV  9/16/2023  ...     Headache   \n",
              "1     T014     DrugC     Phase I  11/4/2022  ...     Headache   \n",
              "2     T008     DrugA     Phase I   5/6/2022  ...      Fatigue   \n",
              "3     T016     DrugB    Phase II  2/17/2023  ...    Dizziness   \n",
              "4     T019     DrugD     Phase I  8/26/2023  ...    Dizziness   \n",
              "\n",
              "  Duration_of_Treatment Success_Indicator Gene_Name Mutation_Status  \\\n",
              "0                    95                 1     BRCA2        Positive   \n",
              "1                    90                 0      HER2        Negative   \n",
              "2                    64                 1      HER2        Positive   \n",
              "3                   159                 1     BRCA2        Positive   \n",
              "4                    44                 0      EGFR        Negative   \n",
              "\n",
              "  Expression_Level Biomarker_Level  Efficacy_Score  Survival_Rate  \\\n",
              "0             3.79            3.14            3.80          20.60   \n",
              "1             1.65            4.64            8.40          23.10   \n",
              "2             3.45            2.67            9.40          21.60   \n",
              "3             1.11            2.51            8.30          23.80   \n",
              "4             3.38            2.52            9.70          21.20   \n",
              "\n",
              "  Progression_Free_Survival  \n",
              "0                     14.60  \n",
              "1                     15.30  \n",
              "2                      3.80  \n",
              "3                      5.60  \n",
              "4                     17.30  \n",
              "\n",
              "[5 rows x 26 columns]"
            ],
            "text/html": [
              "\n",
              "  <div id=\"df-8d3656f3-2354-4545-a407-a94d1f8eacb6\" class=\"colab-df-container\">\n",
              "    <div>\n",
              "<style scoped>\n",
              "    .dataframe tbody tr th:only-of-type {\n",
              "        vertical-align: middle;\n",
              "    }\n",
              "\n",
              "    .dataframe tbody tr th {\n",
              "        vertical-align: top;\n",
              "    }\n",
              "\n",
              "    .dataframe thead th {\n",
              "        text-align: right;\n",
              "    }\n",
              "</style>\n",
              "<table border=\"1\" class=\"dataframe\">\n",
              "  <thead>\n",
              "    <tr style=\"text-align: right;\">\n",
              "      <th></th>\n",
              "      <th>Patient_ID</th>\n",
              "      <th>Age</th>\n",
              "      <th>Gender</th>\n",
              "      <th>Ethnicity</th>\n",
              "      <th>Medical_History</th>\n",
              "      <th>Genomic_Profile</th>\n",
              "      <th>Trial_ID</th>\n",
              "      <th>Drug_Name</th>\n",
              "      <th>Trial_Phase</th>\n",
              "      <th>Start_Date</th>\n",
              "      <th>...</th>\n",
              "      <th>Side_Effects</th>\n",
              "      <th>Duration_of_Treatment</th>\n",
              "      <th>Success_Indicator</th>\n",
              "      <th>Gene_Name</th>\n",
              "      <th>Mutation_Status</th>\n",
              "      <th>Expression_Level</th>\n",
              "      <th>Biomarker_Level</th>\n",
              "      <th>Efficacy_Score</th>\n",
              "      <th>Survival_Rate</th>\n",
              "      <th>Progression_Free_Survival</th>\n",
              "    </tr>\n",
              "  </thead>\n",
              "  <tbody>\n",
              "    <tr>\n",
              "      <th>0</th>\n",
              "      <td>P001</td>\n",
              "      <td>22</td>\n",
              "      <td>Male</td>\n",
              "      <td>African American</td>\n",
              "      <td>Heart Disease</td>\n",
              "      <td>NaN</td>\n",
              "      <td>T011</td>\n",
              "      <td>DrugC</td>\n",
              "      <td>Phase IV</td>\n",
              "      <td>9/16/2023</td>\n",
              "      <td>...</td>\n",
              "      <td>Headache</td>\n",
              "      <td>95</td>\n",
              "      <td>1</td>\n",
              "      <td>BRCA2</td>\n",
              "      <td>Positive</td>\n",
              "      <td>3.79</td>\n",
              "      <td>3.14</td>\n",
              "      <td>3.80</td>\n",
              "      <td>20.60</td>\n",
              "      <td>14.60</td>\n",
              "    </tr>\n",
              "    <tr>\n",
              "      <th>1</th>\n",
              "      <td>P002</td>\n",
              "      <td>61</td>\n",
              "      <td>Female</td>\n",
              "      <td>Other</td>\n",
              "      <td>Diabetes</td>\n",
              "      <td>HER2 Mutation</td>\n",
              "      <td>T014</td>\n",
              "      <td>DrugC</td>\n",
              "      <td>Phase I</td>\n",
              "      <td>11/4/2022</td>\n",
              "      <td>...</td>\n",
              "      <td>Headache</td>\n",
              "      <td>90</td>\n",
              "      <td>0</td>\n",
              "      <td>HER2</td>\n",
              "      <td>Negative</td>\n",
              "      <td>1.65</td>\n",
              "      <td>4.64</td>\n",
              "      <td>8.40</td>\n",
              "      <td>23.10</td>\n",
              "      <td>15.30</td>\n",
              "    </tr>\n",
              "    <tr>\n",
              "      <th>2</th>\n",
              "      <td>P003</td>\n",
              "      <td>60</td>\n",
              "      <td>Female</td>\n",
              "      <td>Other</td>\n",
              "      <td>Heart Disease</td>\n",
              "      <td>TP53 Mutation</td>\n",
              "      <td>T008</td>\n",
              "      <td>DrugA</td>\n",
              "      <td>Phase I</td>\n",
              "      <td>5/6/2022</td>\n",
              "      <td>...</td>\n",
              "      <td>Fatigue</td>\n",
              "      <td>64</td>\n",
              "      <td>1</td>\n",
              "      <td>HER2</td>\n",
              "      <td>Positive</td>\n",
              "      <td>3.45</td>\n",
              "      <td>2.67</td>\n",
              "      <td>9.40</td>\n",
              "      <td>21.60</td>\n",
              "      <td>3.80</td>\n",
              "    </tr>\n",
              "    <tr>\n",
              "      <th>3</th>\n",
              "      <td>P004</td>\n",
              "      <td>76</td>\n",
              "      <td>Other</td>\n",
              "      <td>Other</td>\n",
              "      <td>NaN</td>\n",
              "      <td>EGFR Mutation</td>\n",
              "      <td>T016</td>\n",
              "      <td>DrugB</td>\n",
              "      <td>Phase II</td>\n",
              "      <td>2/17/2023</td>\n",
              "      <td>...</td>\n",
              "      <td>Dizziness</td>\n",
              "      <td>159</td>\n",
              "      <td>1</td>\n",
              "      <td>BRCA2</td>\n",
              "      <td>Positive</td>\n",
              "      <td>1.11</td>\n",
              "      <td>2.51</td>\n",
              "      <td>8.30</td>\n",
              "      <td>23.80</td>\n",
              "      <td>5.60</td>\n",
              "    </tr>\n",
              "    <tr>\n",
              "      <th>4</th>\n",
              "      <td>P005</td>\n",
              "      <td>39</td>\n",
              "      <td>Female</td>\n",
              "      <td>Other</td>\n",
              "      <td>Asthma</td>\n",
              "      <td>BRCA2 Mutation</td>\n",
              "      <td>T019</td>\n",
              "      <td>DrugD</td>\n",
              "      <td>Phase I</td>\n",
              "      <td>8/26/2023</td>\n",
              "      <td>...</td>\n",
              "      <td>Dizziness</td>\n",
              "      <td>44</td>\n",
              "      <td>0</td>\n",
              "      <td>EGFR</td>\n",
              "      <td>Negative</td>\n",
              "      <td>3.38</td>\n",
              "      <td>2.52</td>\n",
              "      <td>9.70</td>\n",
              "      <td>21.20</td>\n",
              "      <td>17.30</td>\n",
              "    </tr>\n",
              "  </tbody>\n",
              "</table>\n",
              "<p>5 rows × 26 columns</p>\n",
              "</div>\n",
              "    <div class=\"colab-df-buttons\">\n",
              "\n",
              "  <div class=\"colab-df-container\">\n",
              "    <button class=\"colab-df-convert\" onclick=\"convertToInteractive('df-8d3656f3-2354-4545-a407-a94d1f8eacb6')\"\n",
              "            title=\"Convert this dataframe to an interactive table.\"\n",
              "            style=\"display:none;\">\n",
              "\n",
              "  <svg xmlns=\"http://www.w3.org/2000/svg\" height=\"24px\" viewBox=\"0 -960 960 960\">\n",
              "    <path d=\"M120-120v-720h720v720H120Zm60-500h600v-160H180v160Zm220 220h160v-160H400v160Zm0 220h160v-160H400v160ZM180-400h160v-160H180v160Zm440 0h160v-160H620v160ZM180-180h160v-160H180v160Zm440 0h160v-160H620v160Z\"/>\n",
              "  </svg>\n",
              "    </button>\n",
              "\n",
              "  <style>\n",
              "    .colab-df-container {\n",
              "      display:flex;\n",
              "      gap: 12px;\n",
              "    }\n",
              "\n",
              "    .colab-df-convert {\n",
              "      background-color: #E8F0FE;\n",
              "      border: none;\n",
              "      border-radius: 50%;\n",
              "      cursor: pointer;\n",
              "      display: none;\n",
              "      fill: #1967D2;\n",
              "      height: 32px;\n",
              "      padding: 0 0 0 0;\n",
              "      width: 32px;\n",
              "    }\n",
              "\n",
              "    .colab-df-convert:hover {\n",
              "      background-color: #E2EBFA;\n",
              "      box-shadow: 0px 1px 2px rgba(60, 64, 67, 0.3), 0px 1px 3px 1px rgba(60, 64, 67, 0.15);\n",
              "      fill: #174EA6;\n",
              "    }\n",
              "\n",
              "    .colab-df-buttons div {\n",
              "      margin-bottom: 4px;\n",
              "    }\n",
              "\n",
              "    [theme=dark] .colab-df-convert {\n",
              "      background-color: #3B4455;\n",
              "      fill: #D2E3FC;\n",
              "    }\n",
              "\n",
              "    [theme=dark] .colab-df-convert:hover {\n",
              "      background-color: #434B5C;\n",
              "      box-shadow: 0px 1px 3px 1px rgba(0, 0, 0, 0.15);\n",
              "      filter: drop-shadow(0px 1px 2px rgba(0, 0, 0, 0.3));\n",
              "      fill: #FFFFFF;\n",
              "    }\n",
              "  </style>\n",
              "\n",
              "    <script>\n",
              "      const buttonEl =\n",
              "        document.querySelector('#df-8d3656f3-2354-4545-a407-a94d1f8eacb6 button.colab-df-convert');\n",
              "      buttonEl.style.display =\n",
              "        google.colab.kernel.accessAllowed ? 'block' : 'none';\n",
              "\n",
              "      async function convertToInteractive(key) {\n",
              "        const element = document.querySelector('#df-8d3656f3-2354-4545-a407-a94d1f8eacb6');\n",
              "        const dataTable =\n",
              "          await google.colab.kernel.invokeFunction('convertToInteractive',\n",
              "                                                    [key], {});\n",
              "        if (!dataTable) return;\n",
              "\n",
              "        const docLinkHtml = 'Like what you see? Visit the ' +\n",
              "          '<a target=\"_blank\" href=https://colab.research.google.com/notebooks/data_table.ipynb>data table notebook</a>'\n",
              "          + ' to learn more about interactive tables.';\n",
              "        element.innerHTML = '';\n",
              "        dataTable['output_type'] = 'display_data';\n",
              "        await google.colab.output.renderOutput(dataTable, element);\n",
              "        const docLink = document.createElement('div');\n",
              "        docLink.innerHTML = docLinkHtml;\n",
              "        element.appendChild(docLink);\n",
              "      }\n",
              "    </script>\n",
              "  </div>\n",
              "\n",
              "\n",
              "<div id=\"df-d298ebec-bd98-426a-9e73-5f072e7b5211\">\n",
              "  <button class=\"colab-df-quickchart\" onclick=\"quickchart('df-d298ebec-bd98-426a-9e73-5f072e7b5211')\"\n",
              "            title=\"Suggest charts\"\n",
              "            style=\"display:none;\">\n",
              "\n",
              "<svg xmlns=\"http://www.w3.org/2000/svg\" height=\"24px\"viewBox=\"0 0 24 24\"\n",
              "     width=\"24px\">\n",
              "    <g>\n",
              "        <path d=\"M19 3H5c-1.1 0-2 .9-2 2v14c0 1.1.9 2 2 2h14c1.1 0 2-.9 2-2V5c0-1.1-.9-2-2-2zM9 17H7v-7h2v7zm4 0h-2V7h2v10zm4 0h-2v-4h2v4z\"/>\n",
              "    </g>\n",
              "</svg>\n",
              "  </button>\n",
              "\n",
              "<style>\n",
              "  .colab-df-quickchart {\n",
              "      --bg-color: #E8F0FE;\n",
              "      --fill-color: #1967D2;\n",
              "      --hover-bg-color: #E2EBFA;\n",
              "      --hover-fill-color: #174EA6;\n",
              "      --disabled-fill-color: #AAA;\n",
              "      --disabled-bg-color: #DDD;\n",
              "  }\n",
              "\n",
              "  [theme=dark] .colab-df-quickchart {\n",
              "      --bg-color: #3B4455;\n",
              "      --fill-color: #D2E3FC;\n",
              "      --hover-bg-color: #434B5C;\n",
              "      --hover-fill-color: #FFFFFF;\n",
              "      --disabled-bg-color: #3B4455;\n",
              "      --disabled-fill-color: #666;\n",
              "  }\n",
              "\n",
              "  .colab-df-quickchart {\n",
              "    background-color: var(--bg-color);\n",
              "    border: none;\n",
              "    border-radius: 50%;\n",
              "    cursor: pointer;\n",
              "    display: none;\n",
              "    fill: var(--fill-color);\n",
              "    height: 32px;\n",
              "    padding: 0;\n",
              "    width: 32px;\n",
              "  }\n",
              "\n",
              "  .colab-df-quickchart:hover {\n",
              "    background-color: var(--hover-bg-color);\n",
              "    box-shadow: 0 1px 2px rgba(60, 64, 67, 0.3), 0 1px 3px 1px rgba(60, 64, 67, 0.15);\n",
              "    fill: var(--button-hover-fill-color);\n",
              "  }\n",
              "\n",
              "  .colab-df-quickchart-complete:disabled,\n",
              "  .colab-df-quickchart-complete:disabled:hover {\n",
              "    background-color: var(--disabled-bg-color);\n",
              "    fill: var(--disabled-fill-color);\n",
              "    box-shadow: none;\n",
              "  }\n",
              "\n",
              "  .colab-df-spinner {\n",
              "    border: 2px solid var(--fill-color);\n",
              "    border-color: transparent;\n",
              "    border-bottom-color: var(--fill-color);\n",
              "    animation:\n",
              "      spin 1s steps(1) infinite;\n",
              "  }\n",
              "\n",
              "  @keyframes spin {\n",
              "    0% {\n",
              "      border-color: transparent;\n",
              "      border-bottom-color: var(--fill-color);\n",
              "      border-left-color: var(--fill-color);\n",
              "    }\n",
              "    20% {\n",
              "      border-color: transparent;\n",
              "      border-left-color: var(--fill-color);\n",
              "      border-top-color: var(--fill-color);\n",
              "    }\n",
              "    30% {\n",
              "      border-color: transparent;\n",
              "      border-left-color: var(--fill-color);\n",
              "      border-top-color: var(--fill-color);\n",
              "      border-right-color: var(--fill-color);\n",
              "    }\n",
              "    40% {\n",
              "      border-color: transparent;\n",
              "      border-right-color: var(--fill-color);\n",
              "      border-top-color: var(--fill-color);\n",
              "    }\n",
              "    60% {\n",
              "      border-color: transparent;\n",
              "      border-right-color: var(--fill-color);\n",
              "    }\n",
              "    80% {\n",
              "      border-color: transparent;\n",
              "      border-right-color: var(--fill-color);\n",
              "      border-bottom-color: var(--fill-color);\n",
              "    }\n",
              "    90% {\n",
              "      border-color: transparent;\n",
              "      border-bottom-color: var(--fill-color);\n",
              "    }\n",
              "  }\n",
              "</style>\n",
              "\n",
              "  <script>\n",
              "    async function quickchart(key) {\n",
              "      const quickchartButtonEl =\n",
              "        document.querySelector('#' + key + ' button');\n",
              "      quickchartButtonEl.disabled = true;  // To prevent multiple clicks.\n",
              "      quickchartButtonEl.classList.add('colab-df-spinner');\n",
              "      try {\n",
              "        const charts = await google.colab.kernel.invokeFunction(\n",
              "            'suggestCharts', [key], {});\n",
              "      } catch (error) {\n",
              "        console.error('Error during call to suggestCharts:', error);\n",
              "      }\n",
              "      quickchartButtonEl.classList.remove('colab-df-spinner');\n",
              "      quickchartButtonEl.classList.add('colab-df-quickchart-complete');\n",
              "    }\n",
              "    (() => {\n",
              "      let quickchartButtonEl =\n",
              "        document.querySelector('#df-d298ebec-bd98-426a-9e73-5f072e7b5211 button');\n",
              "      quickchartButtonEl.style.display =\n",
              "        google.colab.kernel.accessAllowed ? 'block' : 'none';\n",
              "    })();\n",
              "  </script>\n",
              "</div>\n",
              "\n",
              "    </div>\n",
              "  </div>\n"
            ],
            "application/vnd.google.colaboratory.intrinsic+json": {
              "type": "dataframe",
              "variable_name": "df"
            }
          },
          "metadata": {},
          "execution_count": 97
        }
      ]
    },
    {
      "cell_type": "markdown",
      "source": [
        "#2. Data cleaning"
      ],
      "metadata": {
        "id": "Eq67FSlYHz3q"
      }
    },
    {
      "cell_type": "markdown",
      "source": [
        "2.1 Checking for duplicate rows"
      ],
      "metadata": {
        "id": "tQ9Kb8HtKdaY"
      }
    },
    {
      "cell_type": "code",
      "source": [
        "df.duplicated().sum()"
      ],
      "metadata": {
        "colab": {
          "base_uri": "https://localhost:8080/"
        },
        "id": "gdoB0AryJ6Dl",
        "outputId": "db2d948d-6525-42f5-9cf0-b30a6ff3ac94"
      },
      "execution_count": null,
      "outputs": [
        {
          "output_type": "execute_result",
          "data": {
            "text/plain": [
              "0"
            ]
          },
          "metadata": {},
          "execution_count": 98
        }
      ]
    },
    {
      "cell_type": "markdown",
      "source": [
        "2.2 Handling Missing data, if any"
      ],
      "metadata": {
        "id": "n2Uqv16CH-8v"
      }
    },
    {
      "cell_type": "code",
      "source": [
        "#Checking for missing data\n",
        "df.isnull().sum()"
      ],
      "metadata": {
        "colab": {
          "base_uri": "https://localhost:8080/",
          "height": 899
        },
        "id": "d1ZjK-1qI8c1",
        "outputId": "2567e3d1-511e-4204-8c46-44ff9eb25b38"
      },
      "execution_count": null,
      "outputs": [
        {
          "output_type": "execute_result",
          "data": {
            "text/plain": [
              "Patient_ID                     0\n",
              "Age                            0\n",
              "Gender                         0\n",
              "Ethnicity                      0\n",
              "Medical_History              182\n",
              "Genomic_Profile              487\n",
              "Trial_ID                       0\n",
              "Drug_Name                      0\n",
              "Trial_Phase                    0\n",
              "Start_Date                     0\n",
              "End_Date                       0\n",
              "Dose                           0\n",
              "Adverse_Events                81\n",
              "Treatment_ID                   0\n",
              "Dose_Administered              0\n",
              "Treatment_Outcome              0\n",
              "Side_Effects                 167\n",
              "Duration_of_Treatment          0\n",
              "Success_Indicator              0\n",
              "Gene_Name                      0\n",
              "Mutation_Status                0\n",
              "Expression_Level               0\n",
              "Biomarker_Level                0\n",
              "Efficacy_Score                 0\n",
              "Survival_Rate                  0\n",
              "Progression_Free_Survival      0\n",
              "dtype: int64"
            ],
            "text/html": [
              "<div>\n",
              "<style scoped>\n",
              "    .dataframe tbody tr th:only-of-type {\n",
              "        vertical-align: middle;\n",
              "    }\n",
              "\n",
              "    .dataframe tbody tr th {\n",
              "        vertical-align: top;\n",
              "    }\n",
              "\n",
              "    .dataframe thead th {\n",
              "        text-align: right;\n",
              "    }\n",
              "</style>\n",
              "<table border=\"1\" class=\"dataframe\">\n",
              "  <thead>\n",
              "    <tr style=\"text-align: right;\">\n",
              "      <th></th>\n",
              "      <th>0</th>\n",
              "    </tr>\n",
              "  </thead>\n",
              "  <tbody>\n",
              "    <tr>\n",
              "      <th>Patient_ID</th>\n",
              "      <td>0</td>\n",
              "    </tr>\n",
              "    <tr>\n",
              "      <th>Age</th>\n",
              "      <td>0</td>\n",
              "    </tr>\n",
              "    <tr>\n",
              "      <th>Gender</th>\n",
              "      <td>0</td>\n",
              "    </tr>\n",
              "    <tr>\n",
              "      <th>Ethnicity</th>\n",
              "      <td>0</td>\n",
              "    </tr>\n",
              "    <tr>\n",
              "      <th>Medical_History</th>\n",
              "      <td>182</td>\n",
              "    </tr>\n",
              "    <tr>\n",
              "      <th>Genomic_Profile</th>\n",
              "      <td>487</td>\n",
              "    </tr>\n",
              "    <tr>\n",
              "      <th>Trial_ID</th>\n",
              "      <td>0</td>\n",
              "    </tr>\n",
              "    <tr>\n",
              "      <th>Drug_Name</th>\n",
              "      <td>0</td>\n",
              "    </tr>\n",
              "    <tr>\n",
              "      <th>Trial_Phase</th>\n",
              "      <td>0</td>\n",
              "    </tr>\n",
              "    <tr>\n",
              "      <th>Start_Date</th>\n",
              "      <td>0</td>\n",
              "    </tr>\n",
              "    <tr>\n",
              "      <th>End_Date</th>\n",
              "      <td>0</td>\n",
              "    </tr>\n",
              "    <tr>\n",
              "      <th>Dose</th>\n",
              "      <td>0</td>\n",
              "    </tr>\n",
              "    <tr>\n",
              "      <th>Adverse_Events</th>\n",
              "      <td>81</td>\n",
              "    </tr>\n",
              "    <tr>\n",
              "      <th>Treatment_ID</th>\n",
              "      <td>0</td>\n",
              "    </tr>\n",
              "    <tr>\n",
              "      <th>Dose_Administered</th>\n",
              "      <td>0</td>\n",
              "    </tr>\n",
              "    <tr>\n",
              "      <th>Treatment_Outcome</th>\n",
              "      <td>0</td>\n",
              "    </tr>\n",
              "    <tr>\n",
              "      <th>Side_Effects</th>\n",
              "      <td>167</td>\n",
              "    </tr>\n",
              "    <tr>\n",
              "      <th>Duration_of_Treatment</th>\n",
              "      <td>0</td>\n",
              "    </tr>\n",
              "    <tr>\n",
              "      <th>Success_Indicator</th>\n",
              "      <td>0</td>\n",
              "    </tr>\n",
              "    <tr>\n",
              "      <th>Gene_Name</th>\n",
              "      <td>0</td>\n",
              "    </tr>\n",
              "    <tr>\n",
              "      <th>Mutation_Status</th>\n",
              "      <td>0</td>\n",
              "    </tr>\n",
              "    <tr>\n",
              "      <th>Expression_Level</th>\n",
              "      <td>0</td>\n",
              "    </tr>\n",
              "    <tr>\n",
              "      <th>Biomarker_Level</th>\n",
              "      <td>0</td>\n",
              "    </tr>\n",
              "    <tr>\n",
              "      <th>Efficacy_Score</th>\n",
              "      <td>0</td>\n",
              "    </tr>\n",
              "    <tr>\n",
              "      <th>Survival_Rate</th>\n",
              "      <td>0</td>\n",
              "    </tr>\n",
              "    <tr>\n",
              "      <th>Progression_Free_Survival</th>\n",
              "      <td>0</td>\n",
              "    </tr>\n",
              "  </tbody>\n",
              "</table>\n",
              "</div><br><label><b>dtype:</b> int64</label>"
            ]
          },
          "metadata": {},
          "execution_count": 99
        }
      ]
    },
    {
      "cell_type": "markdown",
      "source": [
        "2.2.1. ⚕Dropping rows with missing values"
      ],
      "metadata": {
        "id": "Sj3-eyg2INxD"
      }
    },
    {
      "cell_type": "code",
      "source": [
        "# Drop rows with missing values\n",
        "df.dropna(inplace=True)"
      ],
      "metadata": {
        "id": "8OhXMasMHvvr"
      },
      "execution_count": null,
      "outputs": []
    },
    {
      "cell_type": "markdown",
      "source": [
        "2.2.2 ⚕Dropping rows with data imputation"
      ],
      "metadata": {
        "id": "iRD945o9IohL"
      }
    },
    {
      "cell_type": "code",
      "source": [
        "from sklearn.impute import SimpleImputer\n",
        "\n",
        "# Create a SimpleImputer object with 'most_frequent' strategy\n",
        "imputer = SimpleImputer(strategy='most_frequent')\n",
        "\n",
        "# Select the columns for imputation\n",
        "categorical_features = ['Medical_History', 'Genomic_Profile', 'Adverse_Events']\n",
        "\n",
        "# Impute missing values in the specified columns\n",
        "for feature in categorical_features:\n",
        "    feature_data = df[[feature]]\n",
        "    # Reshape to a 1D array\n",
        "    df[feature] = imputer.fit_transform(feature_data).ravel() # This is the change"
      ],
      "metadata": {
        "id": "Y45ov393Iu0E"
      },
      "execution_count": null,
      "outputs": []
    },
    {
      "cell_type": "code",
      "source": [
        "df_original = df.copy()   # Required for future use"
      ],
      "metadata": {
        "id": "VQ9dNM_tTMuf"
      },
      "execution_count": null,
      "outputs": []
    },
    {
      "cell_type": "markdown",
      "source": [
        "2.3 Handling irrelevant data"
      ],
      "metadata": {
        "id": "Kbgs702ULnZh"
      }
    },
    {
      "cell_type": "code",
      "source": [
        "# Drop Patient_ID\n",
        "df.drop(columns=[\"Patient_ID\"], inplace=True)\n",
        "\n",
        "# Convert date columns to datetime\n",
        "df[\"Start_Date\"] = pd.to_datetime(df[\"Start_Date\"])\n",
        "df[\"End_Date\"] = pd.to_datetime(df[\"End_Date\"])\n",
        "\n",
        "# Create Trial Duration feature\n",
        "df[\"Trial_Duration\"] = (df[\"End_Date\"] - df[\"Start_Date\"]).dt.days\n",
        "\n",
        "#Trial Duration is a substitute for start and end dates; so dropping\n",
        "df.drop(columns=[\"Start_Date\", \"End_Date\"], inplace=True)"
      ],
      "metadata": {
        "id": "-ES24JYxLxdG"
      },
      "execution_count": null,
      "outputs": []
    },
    {
      "cell_type": "markdown",
      "source": [
        "#3. Data Transformation"
      ],
      "metadata": {
        "id": "mwQdrj91KBh-"
      }
    },
    {
      "cell_type": "markdown",
      "source": [
        "3.1 Label Encoding"
      ],
      "metadata": {
        "id": "RvxEnz2YK8xi"
      }
    },
    {
      "cell_type": "code",
      "source": [
        "# Encode categorical features\n",
        "categorical_columns = df.select_dtypes(include=[\"object\"]).columns.tolist()\n",
        "label_encoders = {}\n",
        "categorical_options = {}\n",
        "for col in categorical_columns:\n",
        "    le = LabelEncoder()\n",
        "    df[col] = le.fit_transform(df[col])\n",
        "    label_encoders[col] = le\n",
        "    categorical_options[col] = list(le.classes_)"
      ],
      "metadata": {
        "id": "m7SqZK1OLAO_"
      },
      "execution_count": null,
      "outputs": []
    },
    {
      "cell_type": "markdown",
      "source": [
        "3.2 Normalization"
      ],
      "metadata": {
        "id": "ZuZHLLgGLOhu"
      }
    },
    {
      "cell_type": "code",
      "source": [
        "# Normalize numerical features\n",
        "numerical_columns = df.select_dtypes(include=[\"number\"]).columns.tolist()\n",
        "numerical_columns.remove(\"Success_Indicator\")  # Ensure Success_Indicator is excluded\n",
        "scaler = MinMaxScaler()\n",
        "df[numerical_columns] = scaler.fit_transform(df[numerical_columns])"
      ],
      "metadata": {
        "id": "9soIHP3JLSp1"
      },
      "execution_count": null,
      "outputs": []
    },
    {
      "cell_type": "markdown",
      "source": [
        "#4. Data splitting for training and testing"
      ],
      "metadata": {
        "id": "tpwsE2GSM8-9"
      }
    },
    {
      "cell_type": "markdown",
      "source": [
        "4.1 Prepare Feature variables and Target variable"
      ],
      "metadata": {
        "id": "1UhgHZtvNLG-"
      }
    },
    {
      "cell_type": "code",
      "source": [
        "# Split dataset into features and target variable\n",
        "features = df.drop(columns=[\"Success_Indicator\"])\n",
        "target = df[[\"Success_Indicator\"]]"
      ],
      "metadata": {
        "id": "wnr42JJxNIZP"
      },
      "execution_count": null,
      "outputs": []
    },
    {
      "cell_type": "markdown",
      "source": [],
      "metadata": {
        "id": "jhWJ0n97TaLY"
      }
    },
    {
      "cell_type": "markdown",
      "source": [
        "4.2 Splitting by using train_test_split"
      ],
      "metadata": {
        "id": "k_6h_Kl6NiHL"
      }
    },
    {
      "cell_type": "code",
      "source": [
        "# Split into training and testing sets\n",
        "X_train, X_test, Y_train, Y_test = train_test_split(features, target, test_size=0.3, random_state=False)"
      ],
      "metadata": {
        "id": "EwLkPoGHNnuk"
      },
      "execution_count": null,
      "outputs": []
    },
    {
      "cell_type": "markdown",
      "source": [
        "4.3 Checking the dimension of training and testing data"
      ],
      "metadata": {
        "id": "bkssfvxdOCSl"
      }
    },
    {
      "cell_type": "code",
      "source": [
        "print(X_train.shape)\n",
        "print(X_test.shape)\n",
        "print(Y_train.shape)\n",
        "print(Y_test.shape)"
      ],
      "metadata": {
        "colab": {
          "base_uri": "https://localhost:8080/"
        },
        "id": "5-ljX8hyOJME",
        "outputId": "ca43b84f-258b-4ef6-9190-050b3fc2faf7"
      },
      "execution_count": null,
      "outputs": [
        {
          "output_type": "stream",
          "name": "stdout",
          "text": [
            "(221, 23)\n",
            "(95, 23)\n",
            "(221, 1)\n",
            "(95, 1)\n"
          ]
        }
      ]
    },
    {
      "cell_type": "markdown",
      "source": [
        "4.4 Checking if the data is balanced"
      ],
      "metadata": {
        "id": "OAPbUWLUOO4f"
      }
    },
    {
      "cell_type": "code",
      "source": [
        "Y_train['Success_Indicator'].value_counts()"
      ],
      "metadata": {
        "colab": {
          "base_uri": "https://localhost:8080/",
          "height": 178
        },
        "id": "Down2v7BOWXB",
        "outputId": "60775816-a2ed-409f-f8da-a4751f94a8bc"
      },
      "execution_count": null,
      "outputs": [
        {
          "output_type": "execute_result",
          "data": {
            "text/plain": [
              "Success_Indicator\n",
              "0    150\n",
              "1     71\n",
              "Name: count, dtype: int64"
            ],
            "text/html": [
              "<div>\n",
              "<style scoped>\n",
              "    .dataframe tbody tr th:only-of-type {\n",
              "        vertical-align: middle;\n",
              "    }\n",
              "\n",
              "    .dataframe tbody tr th {\n",
              "        vertical-align: top;\n",
              "    }\n",
              "\n",
              "    .dataframe thead th {\n",
              "        text-align: right;\n",
              "    }\n",
              "</style>\n",
              "<table border=\"1\" class=\"dataframe\">\n",
              "  <thead>\n",
              "    <tr style=\"text-align: right;\">\n",
              "      <th></th>\n",
              "      <th>count</th>\n",
              "    </tr>\n",
              "    <tr>\n",
              "      <th>Success_Indicator</th>\n",
              "      <th></th>\n",
              "    </tr>\n",
              "  </thead>\n",
              "  <tbody>\n",
              "    <tr>\n",
              "      <th>0</th>\n",
              "      <td>150</td>\n",
              "    </tr>\n",
              "    <tr>\n",
              "      <th>1</th>\n",
              "      <td>71</td>\n",
              "    </tr>\n",
              "  </tbody>\n",
              "</table>\n",
              "</div><br><label><b>dtype:</b> int64</label>"
            ]
          },
          "metadata": {},
          "execution_count": 109
        }
      ]
    },
    {
      "cell_type": "markdown",
      "source": [
        "4.5 Handling imbalanced dataset using SMOTE"
      ],
      "metadata": {
        "id": "_hrqnFhfOcJn"
      }
    },
    {
      "cell_type": "code",
      "source": [
        "from imblearn.over_sampling import SMOTE\n",
        "#Synthetic Minority Over-sampling Technique.\n",
        "# a technique used in machine learning to address class imbalance in datasets\n",
        "smote = SMOTE(random_state=42)\n",
        "X_train, Y_train = smote.fit_resample(X_train, Y_train)"
      ],
      "metadata": {
        "id": "SsyS9n-8Oh7l"
      },
      "execution_count": null,
      "outputs": []
    },
    {
      "cell_type": "code",
      "source": [
        "print(X_train.shape)\n",
        "print(X_test.shape)\n",
        "print(Y_train.shape)\n",
        "print(Y_test.shape)\n",
        "#SMOTE increased your training data by creating new,\n",
        "#synthetic samples of the minority class, bringing the total number # of samples to be equal for both classes.\n",
        "#This helps to balance the dataset and improve the performance of machine learning models,\n",
        "#especially in cases where the original dataset is imbalanced"
      ],
      "metadata": {
        "colab": {
          "base_uri": "https://localhost:8080/"
        },
        "id": "0Lr4kNHIO5Wz",
        "outputId": "b7723fc1-ae4d-4948-e189-d96fe570d98b"
      },
      "execution_count": null,
      "outputs": [
        {
          "output_type": "stream",
          "name": "stdout",
          "text": [
            "(300, 23)\n",
            "(95, 23)\n",
            "(300, 1)\n",
            "(95, 1)\n"
          ]
        }
      ]
    },
    {
      "cell_type": "markdown",
      "source": [
        "#5. Training machine learning models"
      ],
      "metadata": {
        "id": "qq7b51Z0PKGI"
      }
    },
    {
      "cell_type": "code",
      "source": [
        "from lazypredict.Supervised import LazyClassifier\n",
        "\n",
        "# Initialize LazyClassifier\n",
        "clf = LazyClassifier(verbose=0, ignore_warnings=True, custom_metric=None)\n",
        "\n",
        "# Fit LazyClassifier with our split data\n",
        "models, predictions = clf.fit(X_train, X_test, Y_train, Y_test)\n",
        "\n",
        "# Display the performance of all models\n",
        "print(models)"
      ],
      "metadata": {
        "colab": {
          "base_uri": "https://localhost:8080/"
        },
        "id": "8_ANeKjaPQXq",
        "outputId": "6454a6e4-b539-4092-bd22-4c1ca90d8a38"
      },
      "execution_count": null,
      "outputs": [
        {
          "output_type": "stream",
          "name": "stderr",
          "text": [
            "100%|██████████| 32/32 [00:03<00:00, 10.34it/s]\n"
          ]
        },
        {
          "output_type": "stream",
          "name": "stdout",
          "text": [
            "[LightGBM] [Info] Number of positive: 150, number of negative: 150\n",
            "[LightGBM] [Info] Auto-choosing col-wise multi-threading, the overhead of testing was 0.000209 seconds.\n",
            "You can set `force_col_wise=true` to remove the overhead.\n",
            "[LightGBM] [Info] Total Bins 1071\n",
            "[LightGBM] [Info] Number of data points in the train set: 300, number of used features: 23\n",
            "[LightGBM] [Info] [binary:BoostFromScore]: pavg=0.500000 -> initscore=0.000000\n",
            "[LightGBM] [Warning] No further splits with positive gain, best gain: -inf\n",
            "[LightGBM] [Warning] No further splits with positive gain, best gain: -inf\n",
            "[LightGBM] [Warning] No further splits with positive gain, best gain: -inf\n",
            "[LightGBM] [Warning] No further splits with positive gain, best gain: -inf\n",
            "[LightGBM] [Warning] No further splits with positive gain, best gain: -inf\n",
            "[LightGBM] [Warning] No further splits with positive gain, best gain: -inf\n",
            "[LightGBM] [Warning] No further splits with positive gain, best gain: -inf\n",
            "[LightGBM] [Warning] No further splits with positive gain, best gain: -inf\n",
            "[LightGBM] [Warning] No further splits with positive gain, best gain: -inf\n",
            "[LightGBM] [Warning] No further splits with positive gain, best gain: -inf\n",
            "[LightGBM] [Warning] No further splits with positive gain, best gain: -inf\n",
            "[LightGBM] [Warning] No further splits with positive gain, best gain: -inf\n",
            "[LightGBM] [Warning] No further splits with positive gain, best gain: -inf\n",
            "[LightGBM] [Warning] No further splits with positive gain, best gain: -inf\n",
            "[LightGBM] [Warning] No further splits with positive gain, best gain: -inf\n",
            "[LightGBM] [Warning] No further splits with positive gain, best gain: -inf\n",
            "[LightGBM] [Warning] No further splits with positive gain, best gain: -inf\n",
            "[LightGBM] [Warning] No further splits with positive gain, best gain: -inf\n",
            "[LightGBM] [Warning] No further splits with positive gain, best gain: -inf\n",
            "[LightGBM] [Warning] No further splits with positive gain, best gain: -inf\n",
            "[LightGBM] [Warning] No further splits with positive gain, best gain: -inf\n",
            "[LightGBM] [Warning] No further splits with positive gain, best gain: -inf\n",
            "[LightGBM] [Warning] No further splits with positive gain, best gain: -inf\n",
            "[LightGBM] [Warning] No further splits with positive gain, best gain: -inf\n",
            "[LightGBM] [Warning] No further splits with positive gain, best gain: -inf\n",
            "[LightGBM] [Warning] No further splits with positive gain, best gain: -inf\n",
            "[LightGBM] [Warning] No further splits with positive gain, best gain: -inf\n",
            "[LightGBM] [Warning] No further splits with positive gain, best gain: -inf\n",
            "[LightGBM] [Warning] No further splits with positive gain, best gain: -inf\n",
            "[LightGBM] [Warning] No further splits with positive gain, best gain: -inf\n",
            "[LightGBM] [Warning] No further splits with positive gain, best gain: -inf\n",
            "[LightGBM] [Warning] No further splits with positive gain, best gain: -inf\n",
            "[LightGBM] [Warning] No further splits with positive gain, best gain: -inf\n",
            "[LightGBM] [Warning] No further splits with positive gain, best gain: -inf\n",
            "[LightGBM] [Warning] No further splits with positive gain, best gain: -inf\n",
            "[LightGBM] [Warning] No further splits with positive gain, best gain: -inf\n",
            "[LightGBM] [Warning] No further splits with positive gain, best gain: -inf\n",
            "[LightGBM] [Warning] No further splits with positive gain, best gain: -inf\n",
            "[LightGBM] [Warning] No further splits with positive gain, best gain: -inf\n",
            "[LightGBM] [Warning] No further splits with positive gain, best gain: -inf\n",
            "[LightGBM] [Warning] No further splits with positive gain, best gain: -inf\n",
            "[LightGBM] [Warning] No further splits with positive gain, best gain: -inf\n",
            "[LightGBM] [Warning] No further splits with positive gain, best gain: -inf\n",
            "[LightGBM] [Warning] No further splits with positive gain, best gain: -inf\n",
            "[LightGBM] [Warning] No further splits with positive gain, best gain: -inf\n",
            "[LightGBM] [Warning] No further splits with positive gain, best gain: -inf\n",
            "[LightGBM] [Warning] No further splits with positive gain, best gain: -inf\n",
            "[LightGBM] [Warning] No further splits with positive gain, best gain: -inf\n",
            "[LightGBM] [Warning] No further splits with positive gain, best gain: -inf\n",
            "[LightGBM] [Warning] No further splits with positive gain, best gain: -inf\n",
            "[LightGBM] [Warning] No further splits with positive gain, best gain: -inf\n",
            "[LightGBM] [Warning] No further splits with positive gain, best gain: -inf\n",
            "[LightGBM] [Warning] No further splits with positive gain, best gain: -inf\n",
            "[LightGBM] [Warning] No further splits with positive gain, best gain: -inf\n",
            "[LightGBM] [Warning] No further splits with positive gain, best gain: -inf\n",
            "[LightGBM] [Warning] No further splits with positive gain, best gain: -inf\n",
            "[LightGBM] [Warning] No further splits with positive gain, best gain: -inf\n",
            "[LightGBM] [Warning] No further splits with positive gain, best gain: -inf\n",
            "[LightGBM] [Warning] No further splits with positive gain, best gain: -inf\n",
            "[LightGBM] [Warning] No further splits with positive gain, best gain: -inf\n",
            "[LightGBM] [Warning] No further splits with positive gain, best gain: -inf\n",
            "[LightGBM] [Warning] No further splits with positive gain, best gain: -inf\n",
            "[LightGBM] [Warning] No further splits with positive gain, best gain: -inf\n",
            "[LightGBM] [Warning] No further splits with positive gain, best gain: -inf\n",
            "[LightGBM] [Warning] No further splits with positive gain, best gain: -inf\n",
            "[LightGBM] [Warning] No further splits with positive gain, best gain: -inf\n",
            "[LightGBM] [Warning] No further splits with positive gain, best gain: -inf\n",
            "[LightGBM] [Warning] No further splits with positive gain, best gain: -inf\n",
            "[LightGBM] [Warning] No further splits with positive gain, best gain: -inf\n",
            "[LightGBM] [Warning] No further splits with positive gain, best gain: -inf\n",
            "[LightGBM] [Warning] No further splits with positive gain, best gain: -inf\n",
            "[LightGBM] [Warning] No further splits with positive gain, best gain: -inf\n",
            "[LightGBM] [Warning] No further splits with positive gain, best gain: -inf\n",
            "[LightGBM] [Warning] No further splits with positive gain, best gain: -inf\n",
            "[LightGBM] [Warning] No further splits with positive gain, best gain: -inf\n",
            "[LightGBM] [Warning] No further splits with positive gain, best gain: -inf\n",
            "[LightGBM] [Warning] No further splits with positive gain, best gain: -inf\n",
            "[LightGBM] [Warning] No further splits with positive gain, best gain: -inf\n",
            "[LightGBM] [Warning] No further splits with positive gain, best gain: -inf\n",
            "[LightGBM] [Warning] No further splits with positive gain, best gain: -inf\n",
            "[LightGBM] [Warning] No further splits with positive gain, best gain: -inf\n",
            "[LightGBM] [Warning] No further splits with positive gain, best gain: -inf\n",
            "[LightGBM] [Warning] No further splits with positive gain, best gain: -inf\n",
            "[LightGBM] [Warning] No further splits with positive gain, best gain: -inf\n",
            "[LightGBM] [Warning] No further splits with positive gain, best gain: -inf\n",
            "[LightGBM] [Warning] No further splits with positive gain, best gain: -inf\n",
            "[LightGBM] [Warning] No further splits with positive gain, best gain: -inf\n",
            "[LightGBM] [Warning] No further splits with positive gain, best gain: -inf\n",
            "[LightGBM] [Warning] No further splits with positive gain, best gain: -inf\n",
            "[LightGBM] [Warning] No further splits with positive gain, best gain: -inf\n",
            "[LightGBM] [Warning] No further splits with positive gain, best gain: -inf\n",
            "[LightGBM] [Warning] No further splits with positive gain, best gain: -inf\n",
            "[LightGBM] [Warning] No further splits with positive gain, best gain: -inf\n",
            "[LightGBM] [Warning] No further splits with positive gain, best gain: -inf\n",
            "[LightGBM] [Warning] No further splits with positive gain, best gain: -inf\n",
            "[LightGBM] [Warning] No further splits with positive gain, best gain: -inf\n",
            "[LightGBM] [Warning] No further splits with positive gain, best gain: -inf\n",
            "[LightGBM] [Warning] No further splits with positive gain, best gain: -inf\n",
            "[LightGBM] [Warning] No further splits with positive gain, best gain: -inf\n",
            "[LightGBM] [Warning] No further splits with positive gain, best gain: -inf\n",
            "                               Accuracy  Balanced Accuracy  ROC AUC  F1 Score  \\\n",
            "Model                                                                           \n",
            "AdaBoostClassifier                 1.00               1.00     1.00      1.00   \n",
            "ExtraTreesClassifier               1.00               1.00     1.00      1.00   \n",
            "BaggingClassifier                  1.00               1.00     1.00      1.00   \n",
            "GaussianNB                         1.00               1.00     1.00      1.00   \n",
            "LGBMClassifier                     1.00               1.00     1.00      1.00   \n",
            "DecisionTreeClassifier             1.00               1.00     1.00      1.00   \n",
            "RandomForestClassifier             0.94               0.91     0.91      0.94   \n",
            "QuadraticDiscriminantAnalysis      0.89               0.85     0.85      0.89   \n",
            "BernoulliNB                        0.78               0.81     0.81      0.78   \n",
            "NuSVC                              0.69               0.61     0.61      0.67   \n",
            "KNeighborsClassifier               0.51               0.60     0.60      0.48   \n",
            "SVC                                0.67               0.58     0.58      0.64   \n",
            "LabelPropagation                   0.52               0.55     0.55      0.52   \n",
            "LabelSpreading                     0.52               0.55     0.55      0.52   \n",
            "CalibratedClassifierCV             0.58               0.55     0.55      0.58   \n",
            "LinearSVC                          0.57               0.55     0.55      0.58   \n",
            "RidgeClassifier                    0.57               0.55     0.55      0.58   \n",
            "LinearDiscriminantAnalysis         0.57               0.55     0.55      0.58   \n",
            "ExtraTreeClassifier                0.60               0.54     0.54      0.59   \n",
            "LogisticRegression                 0.56               0.53     0.53      0.57   \n",
            "RidgeClassifierCV                  0.56               0.53     0.53      0.57   \n",
            "NearestCentroid                    0.55               0.53     0.53      0.56   \n",
            "PassiveAggressiveClassifier        0.47               0.50     0.50      0.48   \n",
            "DummyClassifier                    0.65               0.50     0.50      0.52   \n",
            "Perceptron                         0.48               0.48     0.48      0.50   \n",
            "SGDClassifier                      0.47               0.47     0.47      0.49   \n",
            "\n",
            "                               Time Taken  \n",
            "Model                                      \n",
            "AdaBoostClassifier                   0.41  \n",
            "ExtraTreesClassifier                 0.32  \n",
            "BaggingClassifier                    0.13  \n",
            "GaussianNB                           0.05  \n",
            "LGBMClassifier                       0.18  \n",
            "DecisionTreeClassifier               0.06  \n",
            "RandomForestClassifier               0.41  \n",
            "QuadraticDiscriminantAnalysis        0.06  \n",
            "BernoulliNB                          0.05  \n",
            "NuSVC                                0.08  \n",
            "KNeighborsClassifier                 0.06  \n",
            "SVC                                  0.07  \n",
            "LabelPropagation                     0.12  \n",
            "LabelSpreading                       0.18  \n",
            "CalibratedClassifierCV               0.12  \n",
            "LinearSVC                            0.05  \n",
            "RidgeClassifier                      0.05  \n",
            "LinearDiscriminantAnalysis           0.06  \n",
            "ExtraTreeClassifier                  0.05  \n",
            "LogisticRegression                   0.05  \n",
            "RidgeClassifierCV                    0.06  \n",
            "NearestCentroid                      0.05  \n",
            "PassiveAggressiveClassifier          0.05  \n",
            "DummyClassifier                      0.05  \n",
            "Perceptron                           0.05  \n",
            "SGDClassifier                        0.06  \n"
          ]
        }
      ]
    },
    {
      "cell_type": "markdown",
      "source": [
        "#6. Choosing the best machine learning model to build the prediction model"
      ],
      "metadata": {
        "id": "5D0NjOr2Pot-"
      }
    },
    {
      "cell_type": "code",
      "source": [
        "#Chose decision tree classifier since it gives 100% acc in least time\n",
        "\n",
        "from sklearn.tree import DecisionTreeClassifier\n",
        "# Create Decision Tree classifer object\n",
        "model = DecisionTreeClassifier()\n",
        "\n",
        "# Train Decision Tree Classifer\n",
        "model = model.fit(X_train, Y_train)\n",
        "\n",
        "#Predict the response for test dataset\n",
        "Y_pred = model.predict(X_test)"
      ],
      "metadata": {
        "id": "lzXuSvjkP1pt"
      },
      "execution_count": null,
      "outputs": []
    },
    {
      "cell_type": "markdown",
      "source": [
        "#7. Evaluation"
      ],
      "metadata": {
        "id": "eBTr2Q3xQMjE"
      }
    },
    {
      "cell_type": "code",
      "source": [
        "from sklearn.metrics import ConfusionMatrixDisplay\n",
        "\n",
        "# Generate the confusion matrix\n",
        "cm = ConfusionMatrixDisplay.from_estimator(model, X_test, Y_test)\n",
        "\n",
        "# Display the plot\n",
        "plt.show()"
      ],
      "metadata": {
        "colab": {
          "base_uri": "https://localhost:8080/",
          "height": 449
        },
        "id": "AScMmH3OQP7K",
        "outputId": "66afccb5-0b35-4223-d990-914f813b1860"
      },
      "execution_count": null,
      "outputs": [
        {
          "output_type": "display_data",
          "data": {
            "text/plain": [
              "<Figure size 640x480 with 2 Axes>"
            ],
            "image/png": "[encoded data removed]"
          },
          "metadata": {}
        }
      ]
    },
    {
      "cell_type": "code",
      "source": [
        "from sklearn.metrics import classification_report\n",
        "\n",
        "# Assuming you already have Y_test and Y_pred\n",
        "report = classification_report(Y_test, Y_pred)\n",
        "print(report)"
      ],
      "metadata": {
        "colab": {
          "base_uri": "https://localhost:8080/"
        },
        "id": "4m0tK--cQma9",
        "outputId": "f2afe265-95a0-43c0-a811-025e7a1df839"
      },
      "execution_count": null,
      "outputs": [
        {
          "output_type": "stream",
          "name": "stdout",
          "text": [
            "              precision    recall  f1-score   support\n",
            "\n",
            "           0       1.00      1.00      1.00        62\n",
            "           1       1.00      1.00      1.00        33\n",
            "\n",
            "    accuracy                           1.00        95\n",
            "   macro avg       1.00      1.00      1.00        95\n",
            "weighted avg       1.00      1.00      1.00        95\n",
            "\n"
          ]
        }
      ]
    },
    {
      "cell_type": "markdown",
      "source": [
        "#8. Deployment"
      ],
      "metadata": {
        "id": "79SJsEdJQs3D"
      }
    },
    {
      "cell_type": "code",
      "source": [
        "# Save model, scaler, and encoders\n",
        "with open(\"model.pkl\", \"wb\") as f:\n",
        "    pickle.dump(model, f)\n",
        "with open(\"scaler.pkl\", \"wb\") as f:\n",
        "    pickle.dump(scaler, f)\n",
        "with open(\"label_encoders.pkl\", \"wb\") as f:\n",
        "    pickle.dump(label_encoders, f)"
      ],
      "metadata": {
        "id": "hmLOl6XsQwDV"
      },
      "execution_count": null,
      "outputs": []
    },
    {
      "cell_type": "code",
      "source": [
        "# Load saved models\n",
        "def load_models():\n",
        "    with open(\"model.pkl\", \"rb\") as f:\n",
        "        model = pickle.load(f)\n",
        "    with open(\"scaler.pkl\", \"rb\") as f:\n",
        "        scaler = pickle.load(f)\n",
        "    with open(\"label_encoders.pkl\", \"rb\") as f:\n",
        "        label_encoders = pickle.load(f)\n",
        "    return model, scaler, label_encoders"
      ],
      "metadata": {
        "id": "mFnW9WlPQ-LW"
      },
      "execution_count": null,
      "outputs": []
    },
    {
      "cell_type": "code",
      "source": [
        "# Function to predict Success Indicator\n",
        "def predict_success(start_date, end_date, *inputs):\n",
        "    model, scaler, label_encoders = load_models()\n",
        "    try:\n",
        "        trial_duration = (pd.to_datetime(end_date) - pd.to_datetime(start_date)).days\n",
        "    except:\n",
        "        return \"Invalid Date Format\"\n",
        "\n",
        "    inputs = list(inputs)  # Remove original date columns\n",
        "    inputs.append(trial_duration)\n",
        "\n",
        "    input_data = pd.DataFrame([inputs], columns=X.columns)\n",
        "\n",
        "    for col in categorical_columns:\n",
        "        if col in input_data.columns and input_data[col][0] in categorical_options[col]:\n",
        "            input_data[col] = label_encoders[col].transform([input_data[col][0]])[0]\n",
        "        else:\n",
        "            return f\"Invalid category for {col}\"\n",
        "\n",
        "    input_data[numerical_columns] = scaler.transform(input_data[numerical_columns])\n",
        "    prediction = model.predict(input_data)[0]\n",
        "    return \"WoW - Success\" if prediction == 1 else \"Oh - Failure\""
      ],
      "metadata": {
        "id": "nkFW9bsdRFz9"
      },
      "execution_count": null,
      "outputs": []
    },
    {
      "cell_type": "code",
      "source": [
        "# Define Gradio Interface\n",
        "inputs = [\n",
        "    gr.Textbox(label=\"Start Date (YYYY-MM-DD)\"),\n",
        "    gr.Textbox(label=\"End Date (YYYY-MM-DD)\")\n",
        "]\n",
        "\n",
        "X = features\n",
        "\n",
        "for col in X.columns:\n",
        "    if col != \"Trial_Duration\":  # Excluding Trial Duration from manual input (calculated separately)\n",
        "        if col in categorical_options:\n",
        "            inputs.append(gr.Dropdown(choices=categorical_options[col], label=col))\n",
        "        else:\n",
        "            inputs.append(gr.Number(label=col))\n",
        "\n",
        "iface = gr.Interface(fn=predict_success, inputs=inputs, outputs=\"text\", title=\"PrecisionCapsule.AI Predictor\")\n",
        "\n",
        "# Launch Gradio Interface\n",
        "if __name__ == \"__main__\":\n",
        "    iface.launch(share=True)"
      ],
      "metadata": {
        "colab": {
          "base_uri": "https://localhost:8080/",
          "height": 613
        },
        "id": "ddDelSzXRN6K",
        "outputId": "6935e4fe-3369-40ae-8429-63ad3e25039f"
      },
      "execution_count": null,
      "outputs": [
        {
          "output_type": "stream",
          "name": "stdout",
          "text": [
            "Colab notebook detected. To show errors in colab notebook, set debug=True in launch()\n",
            "* Running on public URL: https://b7b93cd12c6f7d8a8d.gradio.live\n",
            "\n",
            "This share link expires in 72 hours. For free permanent hosting and GPU upgrades, run `gradio deploy` from the terminal in the working directory to deploy to Hugging Face Spaces (https://huggingface.co/spaces)\n"
          ]
        },
        {
          "output_type": "display_data",
          "data": {
            "text/plain": [
              "<IPython.core.display.HTML object>"
            ],
            "text/html": [
              "<div><iframe src=\"https://b7b93cd12c6f7d8a8d.gradio.live\" width=\"100%\" height=\"500\" allow=\"autoplay; camera; microphone; clipboard-read; clipboard-write;\" frameborder=\"0\" allowfullscreen></iframe></div>"
            ]
          },
          "metadata": {}
        }
      ]
    },
    {
      "cell_type": "markdown",
      "source": [
        "##Testing data to check the correctness of output"
      ],
      "metadata": {
        "id": "1iJ_J27kReR2"
      }
    },
    {
      "cell_type": "code",
      "source": [
        "#Retrieving the indices of test data#\n",
        "X_train, X_test, Y_train, Y_test, train_indices, test_indices  = train_test_split(\n",
        "    features, target, range(len(features)), test_size=0.3, random_state=False\n",
        ")\n",
        "\n",
        "# Print or use the test_indices\n",
        "print(\"Indices of test data:\", test_indices)"
      ],
      "metadata": {
        "colab": {
          "base_uri": "https://localhost:8080/"
        },
        "id": "ewLISejGXWrD",
        "outputId": "af579ade-3d15-4c53-b29e-4fcef88cf9b6"
      },
      "execution_count": null,
      "outputs": [
        {
          "output_type": "stream",
          "name": "stdout",
          "text": [
            "Indices of test data: [134, 287, 55, 254, 276, 81, 116, 124, 311, 56, 222, 246, 15, 59, 259, 208, 164, 146, 153, 74, 26, 159, 199, 249, 247, 253, 133, 22, 60, 267, 7, 21, 171, 52, 12, 278, 97, 296, 173, 263, 308, 65, 223, 170, 260, 136, 220, 306, 198, 63, 157, 234, 219, 17, 252, 8, 145, 262, 64, 66, 103, 209, 214, 129, 5, 33, 284, 34, 120, 108, 315, 45, 152, 101, 122, 135, 132, 191, 90, 237, 168, 217, 73, 309, 300, 144, 140, 29, 92, 20, 46, 179, 258, 255, 89]\n"
          ]
        }
      ]
    },
    {
      "cell_type": "code",
      "source": [
        "df_original.iloc[134]   #PredictorCapsulr.AI should output as Success_Indicator is 0 (Failure)"
      ],
      "metadata": {
        "colab": {
          "base_uri": "https://localhost:8080/",
          "height": 899
        },
        "id": "aGdmcewRRlPu",
        "outputId": "45fc027c-ecfb-40a8-b6d9-e9f1b3256961"
      },
      "execution_count": null,
      "outputs": [
        {
          "output_type": "execute_result",
          "data": {
            "text/plain": [
              "Patient_ID                             P430\n",
              "Age                                      57\n",
              "Gender                                Other\n",
              "Ethnicity                             Asian\n",
              "Medical_History                    Diabetes\n",
              "Genomic_Profile              BRCA1 Mutation\n",
              "Trial_ID                               T006\n",
              "Drug_Name                             DrugB\n",
              "Trial_Phase                       Phase III\n",
              "Start_Date                         3/1/2022\n",
              "End_Date                           7/1/2023\n",
              "Dose                                  200mg\n",
              "Adverse_Events                 None, Nausea\n",
              "Treatment_ID                         TR0046\n",
              "Dose_Administered                     200mg\n",
              "Treatment_Outcome                 No Change\n",
              "Side_Effects                         Nausea\n",
              "Duration_of_Treatment                    73\n",
              "Success_Indicator                         0\n",
              "Gene_Name                             BRCA1\n",
              "Mutation_Status                    Negative\n",
              "Expression_Level                       2.44\n",
              "Biomarker_Level                        4.83\n",
              "Efficacy_Score                         5.50\n",
              "Survival_Rate                         13.80\n",
              "Progression_Free_Survival             10.80\n",
              "Name: 429, dtype: object"
            ],
            "text/html": [
              "<div>\n",
              "<style scoped>\n",
              "    .dataframe tbody tr th:only-of-type {\n",
              "        vertical-align: middle;\n",
              "    }\n",
              "\n",
              "    .dataframe tbody tr th {\n",
              "        vertical-align: top;\n",
              "    }\n",
              "\n",
              "    .dataframe thead th {\n",
              "        text-align: right;\n",
              "    }\n",
              "</style>\n",
              "<table border=\"1\" class=\"dataframe\">\n",
              "  <thead>\n",
              "    <tr style=\"text-align: right;\">\n",
              "      <th></th>\n",
              "      <th>429</th>\n",
              "    </tr>\n",
              "  </thead>\n",
              "  <tbody>\n",
              "    <tr>\n",
              "      <th>Patient_ID</th>\n",
              "      <td>P430</td>\n",
              "    </tr>\n",
              "    <tr>\n",
              "      <th>Age</th>\n",
              "      <td>57</td>\n",
              "    </tr>\n",
              "    <tr>\n",
              "      <th>Gender</th>\n",
              "      <td>Other</td>\n",
              "    </tr>\n",
              "    <tr>\n",
              "      <th>Ethnicity</th>\n",
              "      <td>Asian</td>\n",
              "    </tr>\n",
              "    <tr>\n",
              "      <th>Medical_History</th>\n",
              "      <td>Diabetes</td>\n",
              "    </tr>\n",
              "    <tr>\n",
              "      <th>Genomic_Profile</th>\n",
              "      <td>BRCA1 Mutation</td>\n",
              "    </tr>\n",
              "    <tr>\n",
              "      <th>Trial_ID</th>\n",
              "      <td>T006</td>\n",
              "    </tr>\n",
              "    <tr>\n",
              "      <th>Drug_Name</th>\n",
              "      <td>DrugB</td>\n",
              "    </tr>\n",
              "    <tr>\n",
              "      <th>Trial_Phase</th>\n",
              "      <td>Phase III</td>\n",
              "    </tr>\n",
              "    <tr>\n",
              "      <th>Start_Date</th>\n",
              "      <td>3/1/2022</td>\n",
              "    </tr>\n",
              "    <tr>\n",
              "      <th>End_Date</th>\n",
              "      <td>7/1/2023</td>\n",
              "    </tr>\n",
              "    <tr>\n",
              "      <th>Dose</th>\n",
              "      <td>200mg</td>\n",
              "    </tr>\n",
              "    <tr>\n",
              "      <th>Adverse_Events</th>\n",
              "      <td>None, Nausea</td>\n",
              "    </tr>\n",
              "    <tr>\n",
              "      <th>Treatment_ID</th>\n",
              "      <td>TR0046</td>\n",
              "    </tr>\n",
              "    <tr>\n",
              "      <th>Dose_Administered</th>\n",
              "      <td>200mg</td>\n",
              "    </tr>\n",
              "    <tr>\n",
              "      <th>Treatment_Outcome</th>\n",
              "      <td>No Change</td>\n",
              "    </tr>\n",
              "    <tr>\n",
              "      <th>Side_Effects</th>\n",
              "      <td>Nausea</td>\n",
              "    </tr>\n",
              "    <tr>\n",
              "      <th>Duration_of_Treatment</th>\n",
              "      <td>73</td>\n",
              "    </tr>\n",
              "    <tr>\n",
              "      <th>Success_Indicator</th>\n",
              "      <td>0</td>\n",
              "    </tr>\n",
              "    <tr>\n",
              "      <th>Gene_Name</th>\n",
              "      <td>BRCA1</td>\n",
              "    </tr>\n",
              "    <tr>\n",
              "      <th>Mutation_Status</th>\n",
              "      <td>Negative</td>\n",
              "    </tr>\n",
              "    <tr>\n",
              "      <th>Expression_Level</th>\n",
              "      <td>2.44</td>\n",
              "    </tr>\n",
              "    <tr>\n",
              "      <th>Biomarker_Level</th>\n",
              "      <td>4.83</td>\n",
              "    </tr>\n",
              "    <tr>\n",
              "      <th>Efficacy_Score</th>\n",
              "      <td>5.50</td>\n",
              "    </tr>\n",
              "    <tr>\n",
              "      <th>Survival_Rate</th>\n",
              "      <td>13.80</td>\n",
              "    </tr>\n",
              "    <tr>\n",
              "      <th>Progression_Free_Survival</th>\n",
              "      <td>10.80</td>\n",
              "    </tr>\n",
              "  </tbody>\n",
              "</table>\n",
              "</div><br><label><b>dtype:</b> object</label>"
            ]
          },
          "metadata": {},
          "execution_count": 125
        }
      ]
    }
  ]
}